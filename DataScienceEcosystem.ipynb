{
 "cells": [
  {
   "cell_type": "markdown",
   "id": "eb848d21-90b2-405b-a721-2ccf2562f43e",
   "metadata": {},
   "source": [
    "# Data Science Tools and Ecosystem"
   ]
  },
  {
   "cell_type": "markdown",
   "id": "62287d2e-b01b-4dea-8e43-b0f5cede8340",
   "metadata": {},
   "source": [
    "In this notebook, Data Science Tools and Ecosystem are summarized."
   ]
  },
  {
   "cell_type": "markdown",
   "id": "85560485-070c-40f6-9bb3-2e607d670e00",
   "metadata": {},
   "source": [
    "Some of the popular languages that data Scientists use are:\n",
    "1. Python\n",
    "2. R\n",
    "3. SQL\n",
    "4. Java\n",
    "5. C++\n",
    "6. Julia\n",
    "7. JavaScript"
   ]
  },
  {
   "cell_type": "markdown",
   "id": "fe341a13-24e6-4481-b7c4-cff7b72e5150",
   "metadata": {},
   "source": [
    "Some of the commonly used libraries used by Data Scientists include:\n",
    "1. pandas\n",
    "2. numpy\n",
    "3. scikit-learn\n",
    "4. matplotlib\n",
    "5. tensorFlow\n",
    "6. PySpark"
   ]
  },
  {
   "cell_type": "markdown",
   "id": "91c2089e-734a-4733-817f-58a7403ba8d7",
   "metadata": {},
   "source": [
    "| Data Science Tools | \n",
    "| ---- |\n",
    "| RStudio |\n",
    "| Jupyter Notebooks |\n",
    "| Git and GitHub |\n",
    " \n"
   ]
  },
  {
   "cell_type": "markdown",
   "id": "9cc1e371-a5ad-4c72-868f-a25383db1ab2",
   "metadata": {},
   "source": [
    "### Below are a few examples of evaluating arithmetic expressions in Python"
   ]
  },
  {
   "cell_type": "code",
   "execution_count": 9,
   "id": "6f4da34d-dd6b-4b79-b0ae-42b6f0e4dcff",
   "metadata": {},
   "outputs": [
    {
     "data": {
      "text/plain": [
       "17"
      ]
     },
     "execution_count": 9,
     "metadata": {},
     "output_type": "execute_result"
    }
   ],
   "source": [
    "# This is a simple arithmetic expression to multiply and then add integers.\n",
    "(3*4)+5"
   ]
  },
  {
   "cell_type": "code",
   "execution_count": 11,
   "id": "a5c17a3b-e716-47c2-bac4-e489ee0712dd",
   "metadata": {},
   "outputs": [
    {
     "data": {
      "text/plain": [
       "3.3333333333333335"
      ]
     },
     "execution_count": 11,
     "metadata": {},
     "output_type": "execute_result"
    }
   ],
   "source": [
    "# This will convert 200 minutes to hours by dividing by 60.\n",
    "200/60"
   ]
  },
  {
   "cell_type": "markdown",
   "id": "3fc57cf8-8c07-4538-8909-be07085d0599",
   "metadata": {},
   "source": [
    "**Objectives:**\n",
    "+ Python\n",
    "+ R\n",
    "+ SQL\n",
    "+ Jupyter Notebooks\n",
    "+ Git and GitHub"
   ]
  },
  {
   "cell_type": "code",
   "execution_count": null,
   "id": "8c3179a5-c7e4-4c87-998d-8bfe2044c878",
   "metadata": {},
   "outputs": [],
   "source": [
    "## Author\n",
    "Bea A."
   ]
  },
  {
   "cell_type": "code",
   "execution_count": null,
   "id": "fd2b04f7-34c1-46b7-832d-c144c5efe12d",
   "metadata": {},
   "outputs": [],
   "source": []
  }
 ],
 "metadata": {
  "kernelspec": {
   "display_name": "Python 3 (ipykernel)",
   "language": "python",
   "name": "python3"
  },
  "language_info": {
   "codemirror_mode": {
    "name": "ipython",
    "version": 3
   },
   "file_extension": ".py",
   "mimetype": "text/x-python",
   "name": "python",
   "nbconvert_exporter": "python",
   "pygments_lexer": "ipython3",
   "version": "3.11.7"
  }
 },
 "nbformat": 4,
 "nbformat_minor": 5
}
